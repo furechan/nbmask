{
 "cells": [
  {
   "cell_type": "code",
   "execution_count": 22,
   "id": "51a01733",
   "metadata": {
    "dotnet_interactive": {
     "language": "csharp"
    },
    "polyglot_notebook": {
     "kernelName": "csharp"
    }
   },
   "outputs": [
    {
     "name": "stdout",
     "output_type": "stream",
     "text": [
      "The nbmask extension is already loaded. To reload it, use:\n",
      "  %reload_ext nbmask\n"
     ]
    }
   ],
   "source": [
    "import os\n",
    "import logging\n",
    "\n",
    "from pathlib import Path\n",
    "\n",
    "from IPython.display import display\n",
    "from IPython.lib.pretty import pprint\n",
    "\n",
    "logging.basicConfig(level=\"DEBUG\", force=True)\n",
    "logging.captureWarnings(True)\n",
    "\n",
    "\n",
    "%load_ext nbmask"
   ]
  },
  {
   "cell_type": "code",
   "execution_count": 23,
   "id": "4a925c2d75575c7d",
   "metadata": {
    "ExecuteTime": {
     "end_time": "2023-12-21T16:06:04.667025Z",
     "start_time": "2023-12-21T16:06:04.652929Z"
    },
    "collapsed": false
   },
   "outputs": [
    {
     "data": {
      "text/plain": [
       "'...'"
      ]
     },
     "execution_count": 23,
     "metadata": {},
     "output_type": "execute_result"
    }
   ],
   "source": [
    "# IPython native output and diplay is automatically masked\n",
    "\n",
    "username = os.getenv(\"USER\")\n",
    "username  # >>> '...'"
   ]
  },
  {
   "cell_type": "code",
   "execution_count": 24,
   "id": "afceeeb1",
   "metadata": {},
   "outputs": [
    {
     "data": {
      "text/plain": [
       "PosixPath('/Users/.../Documents')"
      ]
     },
     "execution_count": 24,
     "metadata": {},
     "output_type": "execute_result"
    }
   ],
   "source": [
    "documents = Path(f\"/Users/{username}/Documents\")\n",
    "documents  # >>> PosixPath('/Users/.../Documents')"
   ]
  },
  {
   "cell_type": "code",
   "execution_count": 25,
   "id": "1d2c13444248616",
   "metadata": {
    "ExecuteTime": {
     "end_time": "2023-12-21T16:06:06.307642Z",
     "start_time": "2023-12-21T16:06:06.295310Z"
    },
    "collapsed": false
   },
   "outputs": [
    {
     "name": "stdout",
     "output_type": "stream",
     "text": [
      "TOKEN ...\n"
     ]
    }
   ],
   "source": [
    "def my_secret_token():\n",
    "    return \"1234567890\"\n",
    "\n",
    "\n",
    "TOKEN = my_secret_token()\n",
    "\n",
    "%nbmask \"$TOKEN\"\n",
    "\n",
    "print(\"TOKEN\", TOKEN)"
   ]
  },
  {
   "cell_type": "code",
   "execution_count": 26,
   "id": "c690900d",
   "metadata": {},
   "outputs": [
    {
     "name": "stdout",
     "output_type": "stream",
     "text": [
      "{'token': '...', 'user': '...'}\n"
     ]
    },
    {
     "data": {
      "text/plain": [
       "{'token': '...', 'user': '...'}"
      ]
     },
     "metadata": {},
     "output_type": "display_data"
    },
    {
     "name": "stdout",
     "output_type": "stream",
     "text": [
      "{'token': '...', 'user': '...'}\n"
     ]
    },
    {
     "data": {
      "text/plain": [
       "{'token': '...', 'user': '...'}"
      ]
     },
     "execution_count": 26,
     "metadata": {},
     "output_type": "execute_result"
    }
   ],
   "source": [
    "credentials = dict(token=TOKEN, user=username)\n",
    "\n",
    "print(credentials)\n",
    "display(credentials)\n",
    "pprint(credentials)\n",
    "credentials"
   ]
  },
  {
   "cell_type": "code",
   "execution_count": 27,
   "id": "d0ce99c7",
   "metadata": {},
   "outputs": [
    {
     "name": "stdout",
     "output_type": "stream",
     "text": [
      "{'token': '...', 'user': '...'}\n"
     ]
    }
   ],
   "source": [
    "pprint(credentials)"
   ]
  },
  {
   "cell_type": "code",
   "execution_count": 28,
   "id": "9cab1b90",
   "metadata": {},
   "outputs": [
    {
     "name": "stderr",
     "output_type": "stream",
     "text": [
      "DEBUG:root:TOKEN = ...\n"
     ]
    }
   ],
   "source": [
    "logging.debug(\"TOKEN = %s\", TOKEN)"
   ]
  },
  {
   "cell_type": "code",
   "execution_count": null,
   "id": "f6861103",
   "metadata": {},
   "outputs": [],
   "source": []
  }
 ],
 "metadata": {
  "kernelspec": {
   "display_name": ".venv",
   "language": "python",
   "name": "python3"
  },
  "language_info": {
   "codemirror_mode": {
    "name": "ipython",
    "version": 3
   },
   "file_extension": ".py",
   "mimetype": "text/x-python",
   "name": "python",
   "nbconvert_exporter": "python",
   "pygments_lexer": "ipython3",
   "version": "3.9.18"
  },
  "polyglot_notebook": {
   "kernelInfo": {
    "defaultKernelName": "csharp",
    "items": [
     {
      "aliases": [],
      "name": "csharp"
     }
    ]
   }
  }
 },
 "nbformat": 4,
 "nbformat_minor": 5
}
