{
 "cells": [
  {
   "cell_type": "code",
   "execution_count": 1,
   "id": "initial_id",
   "metadata": {
    "ExecuteTime": {
     "end_time": "2023-12-21T16:06:04.136064Z",
     "start_time": "2023-12-21T16:06:04.126368Z"
    },
    "collapsed": true
   },
   "outputs": [],
   "source": [
    "import os\n",
    "\n",
    "from pathlib import Path\n",
    "\n",
    "from IPython.display import display\n",
    "\n",
    "%load_ext nbmask\n"
   ]
  },
  {
   "cell_type": "code",
   "execution_count": 2,
   "id": "4a925c2d75575c7d",
   "metadata": {
    "ExecuteTime": {
     "end_time": "2023-12-21T16:06:04.667025Z",
     "start_time": "2023-12-21T16:06:04.652929Z"
    },
    "collapsed": false
   },
   "outputs": [
    {
     "data": {
      "text/plain": [
       "'...'"
      ]
     },
     "metadata": {},
     "output_type": "display_data"
    },
    {
     "data": {
      "text/plain": [
       "'My name is ...!'"
      ]
     },
     "metadata": {},
     "output_type": "display_data"
    },
    {
     "data": {
      "text/plain": [
       "PosixPath('/Users/.../Documents')"
      ]
     },
     "metadata": {},
     "output_type": "display_data"
    }
   ],
   "source": [
    "\n",
    "username = os.getenv('USER')\n",
    "message = f\"My name is {username}!\"\n",
    "documents = Path(f\"/Users/{username}/Documents\")\n",
    "\n",
    "display(username) # >>> '...'\n",
    "\n",
    "display(message) # >>> 'My name is ...!'\n",
    "\n",
    "display(documents) # >>> PosixPath('/Users/.../Documents')\n"
   ]
  },
  {
   "cell_type": "code",
   "execution_count": 3,
   "id": "e526e2a93cba083a",
   "metadata": {
    "ExecuteTime": {
     "end_time": "2023-12-21T16:06:05.323420Z",
     "start_time": "2023-12-21T16:06:05.306222Z"
    },
    "collapsed": false
   },
   "outputs": [],
   "source": [
    "def my_secret_token():\n",
    "    return \"some-secret-token\"\n"
   ]
  },
  {
   "cell_type": "code",
   "execution_count": 4,
   "id": "1d2c13444248616",
   "metadata": {
    "ExecuteTime": {
     "end_time": "2023-12-21T16:06:06.307642Z",
     "start_time": "2023-12-21T16:06:06.295310Z"
    },
    "collapsed": false
   },
   "outputs": [
    {
     "data": {
      "text/plain": [
       "{'token': '...'}"
      ]
     },
     "execution_count": 4,
     "metadata": {},
     "output_type": "execute_result"
    }
   ],
   "source": [
    "TOKEN = my_secret_token()\n",
    "\n",
    "%nbmask \"$TOKEN\"\n",
    "\n",
    "credentials = dict(token=TOKEN)\n",
    "\n",
    "credentials # >>> {'token': '...'}"
   ]
  },
  {
   "cell_type": "code",
   "execution_count": 5,
   "id": "8547d93b2f918c02",
   "metadata": {
    "ExecuteTime": {
     "end_time": "2023-12-21T16:06:07.868052Z",
     "start_time": "2023-12-21T16:06:07.850574Z"
    },
    "collapsed": false
   },
   "outputs": [
    {
     "name": "stdout",
     "output_type": "stream",
     "text": [
      "My name is ...!\n",
      "\n"
     ]
    }
   ],
   "source": [
    "%%masked\n",
    "\n",
    "message = f\"My name is {username}!\"\n",
    "\n",
    "print(message) # >>> ... is foolish!\n"
   ]
  },
  {
   "cell_type": "code",
   "execution_count": 6,
   "id": "52aa3ab2a8d2ff49",
   "metadata": {
    "ExecuteTime": {
     "end_time": "2023-12-21T16:06:08.756645Z",
     "start_time": "2023-12-21T16:06:08.736521Z"
    },
    "collapsed": false
   },
   "outputs": [
    {
     "name": "stderr",
     "output_type": "stream",
     "text": [
      "DEBUG:root:Used token ...\n",
      "\n"
     ]
    }
   ],
   "source": [
    "%%masked\n",
    "\n",
    "import logging\n",
    "\n",
    "logging.basicConfig(level=\"DEBUG\", force=True)\n",
    "\n",
    "logging.debug(\"Used token %s\", TOKEN) # >>> DEBUG:root:Used token ...\n"
   ]
  },
  {
   "cell_type": "code",
   "execution_count": null,
   "id": "8581cd5564f45bf5",
   "metadata": {
    "collapsed": false
   },
   "outputs": [],
   "source": []
  }
 ],
 "metadata": {
  "kernelspec": {
   "display_name": "Python 3",
   "language": "python",
   "name": "python3"
  },
  "language_info": {
   "codemirror_mode": {
    "name": "ipython",
    "version": 3
   },
   "file_extension": ".py",
   "mimetype": "text/x-python",
   "name": "python",
   "nbconvert_exporter": "python",
   "pygments_lexer": "ipython3",
   "version": "3.9.18"
  }
 },
 "nbformat": 4,
 "nbformat_minor": 5
}
