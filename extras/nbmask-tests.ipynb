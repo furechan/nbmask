{
 "cells": [
  {
   "cell_type": "code",
   "execution_count": 1,
   "id": "initial_id",
   "metadata": {
    "collapsed": true,
    "ExecuteTime": {
     "end_time": "2023-12-21T16:06:04.136064Z",
     "start_time": "2023-12-21T16:06:04.126368Z"
    }
   },
   "outputs": [],
   "source": [
    "import os\n",
    "\n",
    "from pathlib import Path\n",
    "\n",
    "from IPython.display import display\n",
    "\n",
    "%load_ext nbmask\n"
   ]
  },
  {
   "cell_type": "code",
   "execution_count": 2,
   "outputs": [
    {
     "data": {
      "text/plain": "'...'"
     },
     "metadata": {},
     "output_type": "display_data"
    },
    {
     "data": {
      "text/plain": "'My name is ...!'"
     },
     "metadata": {},
     "output_type": "display_data"
    },
    {
     "data": {
      "text/plain": "PosixPath('/Users/.../Documents')"
     },
     "metadata": {},
     "output_type": "display_data"
    }
   ],
   "source": [
    "\n",
    "username = os.getenv('USER')\n",
    "message = f\"My name is {username}!\"\n",
    "documents = Path(f\"/Users/{username}/Documents\")\n",
    "\n",
    "display(username) # >>> '...'\n",
    "\n",
    "display(message) # >>> 'My name is ...!'\n",
    "\n",
    "display(documents) # >>> PosixPath('/Users/.../Documents')\n"
   ],
   "metadata": {
    "collapsed": false,
    "ExecuteTime": {
     "end_time": "2023-12-21T16:06:04.667025Z",
     "start_time": "2023-12-21T16:06:04.652929Z"
    }
   },
   "id": "4a925c2d75575c7d"
  },
  {
   "cell_type": "code",
   "execution_count": 3,
   "outputs": [],
   "source": [
    "def my_secret_token():\n",
    "    return \"some-secret-token\"\n"
   ],
   "metadata": {
    "collapsed": false,
    "ExecuteTime": {
     "end_time": "2023-12-21T16:06:05.323420Z",
     "start_time": "2023-12-21T16:06:05.306222Z"
    }
   },
   "id": "e526e2a93cba083a"
  },
  {
   "cell_type": "code",
   "execution_count": 4,
   "outputs": [
    {
     "data": {
      "text/plain": "{'token': '...'}"
     },
     "execution_count": 4,
     "metadata": {},
     "output_type": "execute_result"
    }
   ],
   "source": [
    "TOKEN = my_secret_token()\n",
    "\n",
    "%nbmask \"$TOKEN\"\n",
    "\n",
    "credentials = dict(token=TOKEN)\n",
    "\n",
    "credentials # >>> {'token': '...'}"
   ],
   "metadata": {
    "collapsed": false,
    "ExecuteTime": {
     "end_time": "2023-12-21T16:06:06.307642Z",
     "start_time": "2023-12-21T16:06:06.295310Z"
    }
   },
   "id": "1d2c13444248616"
  },
  {
   "cell_type": "code",
   "execution_count": 5,
   "outputs": [
    {
     "name": "stdout",
     "output_type": "stream",
     "text": [
      "My name is ...!\n"
     ]
    }
   ],
   "source": [
    "%%masked\n",
    "\n",
    "message = f\"My name is {username}!\"\n",
    "\n",
    "print(message) # >>> ... is foolish!\n"
   ],
   "metadata": {
    "collapsed": false,
    "ExecuteTime": {
     "end_time": "2023-12-21T16:06:07.868052Z",
     "start_time": "2023-12-21T16:06:07.850574Z"
    }
   },
   "id": "8547d93b2f918c02"
  },
  {
   "cell_type": "code",
   "execution_count": 6,
   "outputs": [
    {
     "name": "stderr",
     "output_type": "stream",
     "text": [
      "DEBUG:root:Used token ...\n",
      "\n"
     ]
    }
   ],
   "source": [
    "%%masked\n",
    "\n",
    "import logging\n",
    "\n",
    "logging.basicConfig(level=\"DEBUG\", force=True)\n",
    "\n",
    "logging.debug(\"Used token %s\", TOKEN) # >>> DEBUG:root:Used token ...\n"
   ],
   "metadata": {
    "collapsed": false,
    "ExecuteTime": {
     "end_time": "2023-12-21T16:06:08.756645Z",
     "start_time": "2023-12-21T16:06:08.736521Z"
    }
   },
   "id": "52aa3ab2a8d2ff49"
  },
  {
   "cell_type": "code",
   "execution_count": null,
   "outputs": [],
   "source": [],
   "metadata": {
    "collapsed": false
   },
   "id": "8581cd5564f45bf5"
  }
 ],
 "metadata": {
  "kernelspec": {
   "display_name": "Python 3",
   "language": "python",
   "name": "python3"
  },
  "language_info": {
   "codemirror_mode": {
    "name": "ipython",
    "version": 2
   },
   "file_extension": ".py",
   "mimetype": "text/x-python",
   "name": "python",
   "nbconvert_exporter": "python",
   "pygments_lexer": "ipython2",
   "version": "2.7.6"
  }
 },
 "nbformat": 4,
 "nbformat_minor": 5
}
